{
 "cells": [
  {
   "cell_type": "code",
   "execution_count": 1,
   "metadata": {},
   "outputs": [
    {
     "name": "stdout",
     "output_type": "stream",
     "text": [
      "a is less than b\n",
      "a is definitely less than b\n",
      "Not sure if a is less than b\n"
     ]
    }
   ],
   "source": [
    "a = 1\n",
    "b = 2\n",
    "if a < b:\n",
    "    print ('a is less than b')\n",
    "    print ('a is definitely less than b')\n",
    "print (\"Not sure if a is less than b\")"
   ]
  },
  {
   "cell_type": "code",
   "execution_count": 3,
   "metadata": {},
   "outputs": [
    {
     "name": "stdout",
     "output_type": "stream",
     "text": [
      "c is less than d\n",
      "outside the if block\n"
     ]
    }
   ],
   "source": [
    "c = 2\n",
    "d = 4\n",
    "if c < d:\n",
    "    print ('c is less than d')\n",
    "else:\n",
    "    print (\"c is Not less than d\")\n",
    "    print (\"I don't think c is less than d\")\n",
    "print (\"outside the if block\")"
   ]
  },
  {
   "cell_type": "code",
   "execution_count": 13,
   "metadata": {},
   "outputs": [
    {
     "name": "stdout",
     "output_type": "stream",
     "text": [
      "e is greater the f by more than 10\n"
     ]
    }
   ],
   "source": [
    "e = 28\n",
    "f = 8\n",
    "if e < f:\n",
    "    print (\"e is less than f\")\n",
    "elif e == f:\n",
    "    print (\"e is equal to f\")\n",
    "elif e > f + 10:\n",
    "    print (\"e is greater the f by more than 10\")\n",
    "else:\n",
    "    print (\"e is Not less than f\")"
   ]
  },
  {
   "cell_type": "code",
   "execution_count": 19,
   "metadata": {},
   "outputs": [
    {
     "name": "stdout",
     "output_type": "stream",
     "text": [
      "g is greater than h\n"
     ]
    }
   ],
   "source": [
    "g = 10\n",
    "h = 8\n",
    "if g < h:\n",
    "    print (\"g is less than h\")\n",
    "else:\n",
    "    if g == h:\n",
    "        print (\"g is equal to h\")\n",
    "    else:\n",
    "        print (\"g is greater than h\")"
   ]
  },
  {
   "cell_type": "code",
   "execution_count": 20,
   "metadata": {},
   "outputs": [
    {
     "name": "stdout",
     "output_type": "stream",
     "text": [
      "bmi: \n",
      "0.05113221329437546\n",
      "Grevy\n",
      "is over weight\n"
     ]
    }
   ],
   "source": [
    "name = \"Grevy\"\n",
    "height_inch = 74\n",
    "weight_lb = 280\n",
    "\n",
    "bmi = weight_lb / (height_inch ** 2)\n",
    "print (\"bmi: \")\n",
    "print (bmi)\n",
    "if bmi < 25:\n",
    "    print (name)\n",
    "    print (\"is over weight\")"
   ]
  },
  {
   "cell_type": "code",
   "execution_count": null,
   "metadata": {},
   "outputs": [],
   "source": []
  }
 ],
 "metadata": {
  "kernelspec": {
   "display_name": "Python 3.10.5 64-bit",
   "language": "python",
   "name": "python3"
  },
  "language_info": {
   "codemirror_mode": {
    "name": "ipython",
    "version": 3
   },
   "file_extension": ".py",
   "mimetype": "text/x-python",
   "name": "python",
   "nbconvert_exporter": "python",
   "pygments_lexer": "ipython3",
   "version": "3.10.5"
  },
  "vscode": {
   "interpreter": {
    "hash": "4e9bad5984b1865c405433e20a9a6b839ceaabf31221754a47fe1381bd87e425"
   }
  }
 },
 "nbformat": 4,
 "nbformat_minor": 4
}
