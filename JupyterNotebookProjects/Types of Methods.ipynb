{
 "cells": [
  {
   "cell_type": "code",
   "execution_count": null,
   "metadata": {},
   "outputs": [],
   "source": []
  },
  {
   "cell_type": "code",
   "execution_count": 3,
   "metadata": {},
   "outputs": [
    {
     "name": "stdout",
     "output_type": "stream",
     "text": [
      "34.0\n",
      "This is Student class... in abc module\n",
      "None\n",
      "This is Student class... in abc module\n"
     ]
    }
   ],
   "source": [
    "class Student:\n",
    "    \n",
    "    school = 'Marcelin' # Class variable\n",
    "    \n",
    "    def __init__(self, m1, m2, m3):\n",
    "        self.m1 = m1\n",
    "        self.m2 = m2\n",
    "        self.m3 = m3\n",
    "        \n",
    "    def avg(self):\n",
    "        return (self.m1 + self.m2 + self.m3)/3\n",
    "    \n",
    "    @classmethod\n",
    "    def getSchool(cls):\n",
    "        return cls.school # Class methods you use return.\n",
    "    \n",
    "    @staticmethod\n",
    "    def info():\n",
    "        print(\"This is Student class... in abc module\") #Static methods you use print().\n",
    "    \n",
    "s1 = Student(34, 47, 21) # Instance variable\n",
    "s2 = Student(89, 32, 12)\n",
    "\n",
    "print(s1.avg())\n",
    "print(Student.info())\n",
    "\n",
    "Student.info()"
   ]
  }
 ],
 "metadata": {
  "kernelspec": {
   "display_name": "Python 3",
   "language": "python",
   "name": "python3"
  },
  "language_info": {
   "codemirror_mode": {
    "name": "ipython",
    "version": 3
   },
   "file_extension": ".py",
   "mimetype": "text/x-python",
   "name": "python",
   "nbconvert_exporter": "python",
   "pygments_lexer": "ipython3",
   "version": "3.11.3"
  },
  "orig_nbformat": 4
 },
 "nbformat": 4,
 "nbformat_minor": 2
}
