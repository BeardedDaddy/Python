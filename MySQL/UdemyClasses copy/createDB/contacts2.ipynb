{
 "cells": [
  {
   "cell_type": "code",
   "execution_count": null,
   "metadata": {},
   "outputs": [],
   "source": [
    "import sqlite3\n",
    "\n",
    "db = sqlite3.connect(\"contacts.sqlite\")\n",
    "\n",
    "# new_email = \"newupdate@update.com\"\n",
    "# phone = input(\"Please enter a phone number \")\n",
    "\n",
    "\n",
    "# update_sql = \"UPDATE contacts SET email = ? WHERE phone = ?\"\n",
    "# print(update_sql)\n",
    "\n",
    "# update_cursor = db.cursor()\n",
    "# update_cursor.execute(update_sql, (new_email, phone))\n",
    "# print(\"{} rows updated\".format(update_cursor.rowcount))\n",
    "\n",
    "# print()\n",
    "# print(\"Are connections the same: {}\".format(update_cursor.connection == db))\n",
    "# print()\n",
    "\n",
    "# update_cursor.connection.commit()\n",
    "# this is the same as db.commit() # calling dot commit on the wrong connection could cause bugs. # noqa\n",
    "# update_cursor.close()\n",
    "\n",
    "for name, phone, email in db.execute(\"SELECT * FROM contacts\"):\n",
    "    print(name)\n",
    "    print(phone)\n",
    "    print(email)\n",
    "    print(\"-\" * 20)\n",
    "\n",
    "# cursor.close()\n",
    "db.close()\n"
   ]
  }
 ],
 "metadata": {
  "kernelspec": {
   "display_name": "Python 3",
   "language": "python",
   "name": "python3"
  },
  "language_info": {
   "codemirror_mode": {
    "name": "ipython",
    "version": 3
   },
   "file_extension": ".py",
   "mimetype": "text/x-python",
   "name": "python",
   "nbconvert_exporter": "python",
   "pygments_lexer": "ipython3",
   "version": "3.12.0"
  }
 },
 "nbformat": 4,
 "nbformat_minor": 2
}
